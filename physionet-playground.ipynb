{
 "cells": [
  {
   "cell_type": "code",
   "execution_count": 1,
   "id": "b93b22ac",
   "metadata": {
    "execution": {
     "iopub.execute_input": "2024-06-30T06:11:51.704622Z",
     "iopub.status.busy": "2024-06-30T06:11:51.704247Z",
     "iopub.status.idle": "2024-06-30T06:11:57.624421Z",
     "shell.execute_reply": "2024-06-30T06:11:57.623108Z"
    },
    "papermill": {
     "duration": 5.928146,
     "end_time": "2024-06-30T06:11:57.627054",
     "exception": false,
     "start_time": "2024-06-30T06:11:51.698908",
     "status": "completed"
    },
    "tags": []
   },
   "outputs": [
    {
     "data": {
      "text/plain": [
       "<contextlib.ExitStack at 0x7ef978145390>"
      ]
     },
     "execution_count": 1,
     "metadata": {},
     "output_type": "execute_result"
    }
   ],
   "source": [
    "import torch\n",
    "import torch.nn as nn\n",
    "import torch.optim as optim\n",
    "from torch.optim import lr_scheduler\n",
    "import torch.backends.cudnn as cudnn\n",
    "import numpy as np\n",
    "import torchvision\n",
    "from torchvision import datasets, models, transforms\n",
    "import matplotlib.pyplot as plt\n",
    "import time\n",
    "import os\n",
    "from PIL import Image\n",
    "from tempfile import TemporaryDirectory\n",
    "\n",
    "cudnn.benchmark = True\n",
    "plt.ion()"
   ]
  },
  {
   "cell_type": "markdown",
   "id": "3f9d7bb4",
   "metadata": {
    "papermill": {
     "duration": 0.00323,
     "end_time": "2024-06-30T06:11:57.634468",
     "exception": false,
     "start_time": "2024-06-30T06:11:57.631238",
     "status": "completed"
    },
    "tags": []
   },
   "source": []
  },
  {
   "cell_type": "code",
   "execution_count": 2,
   "id": "66e91eb0",
   "metadata": {
    "_cell_guid": "b1076dfc-b9ad-4769-8c92-a6c4dae69d19",
    "_uuid": "8f2839f25d086af736a60e9eeb907d3b93b6e0e5",
    "execution": {
     "iopub.execute_input": "2024-06-30T06:11:57.643647Z",
     "iopub.status.busy": "2024-06-30T06:11:57.642442Z",
     "iopub.status.idle": "2024-06-30T06:11:57.647833Z",
     "shell.execute_reply": "2024-06-30T06:11:57.646701Z"
    },
    "papermill": {
     "duration": 0.012434,
     "end_time": "2024-06-30T06:11:57.650353",
     "exception": false,
     "start_time": "2024-06-30T06:11:57.637919",
     "status": "completed"
    },
    "tags": []
   },
   "outputs": [],
   "source": [
    "# !git clone https://github.com/physionetchallenges/python-example-2024/"
   ]
  },
  {
   "cell_type": "code",
   "execution_count": 3,
   "id": "30fa61fe",
   "metadata": {
    "execution": {
     "iopub.execute_input": "2024-06-30T06:11:57.659199Z",
     "iopub.status.busy": "2024-06-30T06:11:57.658810Z",
     "iopub.status.idle": "2024-06-30T06:11:57.663589Z",
     "shell.execute_reply": "2024-06-30T06:11:57.662492Z"
    },
    "papermill": {
     "duration": 0.012113,
     "end_time": "2024-06-30T06:11:57.665995",
     "exception": false,
     "start_time": "2024-06-30T06:11:57.653882",
     "status": "completed"
    },
    "tags": []
   },
   "outputs": [],
   "source": [
    "# !git clone https://github.com/physionetchallenges/vanilla-cnn-2024.git"
   ]
  },
  {
   "cell_type": "code",
   "execution_count": 4,
   "id": "6701077a",
   "metadata": {
    "execution": {
     "iopub.execute_input": "2024-06-30T06:11:57.674688Z",
     "iopub.status.busy": "2024-06-30T06:11:57.674265Z",
     "iopub.status.idle": "2024-06-30T06:11:57.679275Z",
     "shell.execute_reply": "2024-06-30T06:11:57.678036Z"
    },
    "papermill": {
     "duration": 0.011883,
     "end_time": "2024-06-30T06:11:57.681525",
     "exception": false,
     "start_time": "2024-06-30T06:11:57.669642",
     "status": "completed"
    },
    "tags": []
   },
   "outputs": [],
   "source": [
    "# !git clone https://github.com/alphanumericslab/ecg-image-kit.git"
   ]
  },
  {
   "cell_type": "code",
   "execution_count": 5,
   "id": "769a7353",
   "metadata": {
    "execution": {
     "iopub.execute_input": "2024-06-30T06:11:57.690244Z",
     "iopub.status.busy": "2024-06-30T06:11:57.689869Z",
     "iopub.status.idle": "2024-06-30T06:11:57.694745Z",
     "shell.execute_reply": "2024-06-30T06:11:57.693652Z"
    },
    "papermill": {
     "duration": 0.011991,
     "end_time": "2024-06-30T06:11:57.697147",
     "exception": false,
     "start_time": "2024-06-30T06:11:57.685156",
     "status": "completed"
    },
    "tags": []
   },
   "outputs": [],
   "source": [
    "## For handwriting distortions\n",
    "# !pip install https://s3-us-west-2.amazonaws.com/ai2-s2-scispacy/releases/v0.5.0/en_core_sci_sm-0.5.0.tar.gz &>1"
   ]
  },
  {
   "cell_type": "code",
   "execution_count": 6,
   "id": "faa3deb0",
   "metadata": {
    "execution": {
     "iopub.execute_input": "2024-06-30T06:11:57.706371Z",
     "iopub.status.busy": "2024-06-30T06:11:57.705827Z",
     "iopub.status.idle": "2024-06-30T06:11:57.712090Z",
     "shell.execute_reply": "2024-06-30T06:11:57.710517Z"
    },
    "papermill": {
     "duration": 0.014029,
     "end_time": "2024-06-30T06:11:57.714868",
     "exception": false,
     "start_time": "2024-06-30T06:11:57.700839",
     "status": "completed"
    },
    "tags": []
   },
   "outputs": [],
   "source": [
    "# !pip install gdown &>1\n",
    "# !pip install -r python-example-2024/requirements.txt &>1\n",
    "# !pip install -r ecg-image-kit/codes/ecg-image-generator/requirements.txt &>1"
   ]
  },
  {
   "cell_type": "code",
   "execution_count": 7,
   "id": "65da2d48",
   "metadata": {
    "execution": {
     "iopub.execute_input": "2024-06-30T06:11:57.724073Z",
     "iopub.status.busy": "2024-06-30T06:11:57.723679Z",
     "iopub.status.idle": "2024-06-30T06:11:57.728828Z",
     "shell.execute_reply": "2024-06-30T06:11:57.727576Z"
    },
    "papermill": {
     "duration": 0.012967,
     "end_time": "2024-06-30T06:11:57.731443",
     "exception": false,
     "start_time": "2024-06-30T06:11:57.718476",
     "status": "completed"
    },
    "tags": []
   },
   "outputs": [],
   "source": [
    "# %%time\n",
    "# !python {SCRIPT_PATH} \\\n",
    "#      -i {input_dir} \\\n",
    "#      -o {output_dir} \\\n",
    "#      --random_print_header 0.5 \\\n",
    "#      --lead_bbox \\\n",
    "#      --lead_name_bbox \\\n",
    "#      --wrinkles \\\n",
    "#      -ca 45 \\\n",
    "#      --augment \\\n",
    "#      --se {SEED} \\\n",
    "#      -rot 10  \\\n",
    "#      -noise 100 \\\n",
    "#      --random_bw 0.1 \\\n",
    "#      --random_grid_color \\\n",
    "#      --hw_text \\\n",
    "#      -n 10 \\\n",
    "#      --store_config 2"
   ]
  },
  {
   "cell_type": "code",
   "execution_count": 8,
   "id": "0e3f6400",
   "metadata": {
    "execution": {
     "iopub.execute_input": "2024-06-30T06:11:57.741472Z",
     "iopub.status.busy": "2024-06-30T06:11:57.740479Z",
     "iopub.status.idle": "2024-06-30T06:11:58.858314Z",
     "shell.execute_reply": "2024-06-30T06:11:58.857138Z"
    },
    "papermill": {
     "duration": 1.125667,
     "end_time": "2024-06-30T06:11:58.860859",
     "exception": false,
     "start_time": "2024-06-30T06:11:57.735192",
     "status": "completed"
    },
    "tags": []
   },
   "outputs": [
    {
     "data": {
      "text/html": [
       "<div>\n",
       "<style scoped>\n",
       "    .dataframe tbody tr th:only-of-type {\n",
       "        vertical-align: middle;\n",
       "    }\n",
       "\n",
       "    .dataframe tbody tr th {\n",
       "        vertical-align: top;\n",
       "    }\n",
       "\n",
       "    .dataframe thead th {\n",
       "        text-align: right;\n",
       "    }\n",
       "</style>\n",
       "<table border=\"1\" class=\"dataframe\">\n",
       "  <thead>\n",
       "    <tr style=\"text-align: right;\">\n",
       "      <th></th>\n",
       "      <th>PVC</th>\n",
       "      <th>BRADY</th>\n",
       "      <th>Old MI</th>\n",
       "      <th>STTC</th>\n",
       "      <th>NORM</th>\n",
       "      <th>Acute MI</th>\n",
       "      <th>PAC</th>\n",
       "      <th>TACHY</th>\n",
       "      <th>HYP</th>\n",
       "      <th>CD</th>\n",
       "      <th>AFIB/AFL</th>\n",
       "      <th>Image_Name</th>\n",
       "    </tr>\n",
       "  </thead>\n",
       "  <tbody>\n",
       "    <tr>\n",
       "      <th>0</th>\n",
       "      <td>0</td>\n",
       "      <td>0</td>\n",
       "      <td>0</td>\n",
       "      <td>0</td>\n",
       "      <td>0</td>\n",
       "      <td>0</td>\n",
       "      <td>0</td>\n",
       "      <td>0</td>\n",
       "      <td>0</td>\n",
       "      <td>1</td>\n",
       "      <td>0</td>\n",
       "      <td>10003_hr-0.png</td>\n",
       "    </tr>\n",
       "    <tr>\n",
       "      <th>1</th>\n",
       "      <td>0</td>\n",
       "      <td>0</td>\n",
       "      <td>0</td>\n",
       "      <td>1</td>\n",
       "      <td>0</td>\n",
       "      <td>0</td>\n",
       "      <td>0</td>\n",
       "      <td>0</td>\n",
       "      <td>0</td>\n",
       "      <td>0</td>\n",
       "      <td>0</td>\n",
       "      <td>10004_hr-0.png</td>\n",
       "    </tr>\n",
       "    <tr>\n",
       "      <th>2</th>\n",
       "      <td>0</td>\n",
       "      <td>0</td>\n",
       "      <td>0</td>\n",
       "      <td>0</td>\n",
       "      <td>1</td>\n",
       "      <td>0</td>\n",
       "      <td>0</td>\n",
       "      <td>0</td>\n",
       "      <td>0</td>\n",
       "      <td>0</td>\n",
       "      <td>0</td>\n",
       "      <td>10007_hr-0.png</td>\n",
       "    </tr>\n",
       "    <tr>\n",
       "      <th>3</th>\n",
       "      <td>1</td>\n",
       "      <td>0</td>\n",
       "      <td>0</td>\n",
       "      <td>1</td>\n",
       "      <td>0</td>\n",
       "      <td>0</td>\n",
       "      <td>0</td>\n",
       "      <td>0</td>\n",
       "      <td>1</td>\n",
       "      <td>1</td>\n",
       "      <td>0</td>\n",
       "      <td>10006_hr-0.png</td>\n",
       "    </tr>\n",
       "    <tr>\n",
       "      <th>4</th>\n",
       "      <td>0</td>\n",
       "      <td>0</td>\n",
       "      <td>0</td>\n",
       "      <td>0</td>\n",
       "      <td>1</td>\n",
       "      <td>0</td>\n",
       "      <td>0</td>\n",
       "      <td>0</td>\n",
       "      <td>0</td>\n",
       "      <td>0</td>\n",
       "      <td>0</td>\n",
       "      <td>10005_hr-0.png</td>\n",
       "    </tr>\n",
       "  </tbody>\n",
       "</table>\n",
       "</div>"
      ],
      "text/plain": [
       "   PVC  BRADY  Old MI  STTC  NORM  Acute MI  PAC  TACHY  HYP  CD  AFIB/AFL  \\\n",
       "0    0      0       0     0     0         0    0      0    0   1         0   \n",
       "1    0      0       0     1     0         0    0      0    0   0         0   \n",
       "2    0      0       0     0     1         0    0      0    0   0         0   \n",
       "3    1      0       0     1     0         0    0      0    1   1         0   \n",
       "4    0      0       0     0     1         0    0      0    0   0         0   \n",
       "\n",
       "       Image_Name  \n",
       "0  10003_hr-0.png  \n",
       "1  10004_hr-0.png  \n",
       "2  10007_hr-0.png  \n",
       "3  10006_hr-0.png  \n",
       "4  10005_hr-0.png  "
      ]
     },
     "execution_count": 8,
     "metadata": {},
     "output_type": "execute_result"
    }
   ],
   "source": [
    "import os\n",
    "import pandas as pd\n",
    "\n",
    "def extract_info_from_hea(folder_path, label_mapping):\n",
    "    data = []\n",
    "\n",
    "    # Iterate over all files in the given folder\n",
    "    for filename in os.listdir(folder_path):\n",
    "        if filename.endswith(\".hea\"):\n",
    "            file_path = os.path.join(folder_path, filename)\n",
    "            with open(file_path, 'r', encoding='utf-8', errors='ignore') as file:\n",
    "                lines = file.readlines()\n",
    "                image_path = \"\"\n",
    "                labels = \"\"\n",
    "                \n",
    "                # Iterate over each line in the .hea file\n",
    "                for line in lines:\n",
    "                    if 'Labels' in line:\n",
    "                        labels = line.split(\":\")[1].strip()\n",
    "                    if 'png' in line:\n",
    "                        image_path = line.split(\":\")[1].strip()\n",
    "                \n",
    "                # Create a dictionary to hold the image path and label information\n",
    "                label_info = {label: 0 for label in label_mapping}\n",
    "                if labels:\n",
    "                    for label in labels.split(\",\"):\n",
    "                        if label.strip() in label_mapping:\n",
    "                            label_info[label.strip()] = 1\n",
    "                \n",
    "                label_info[\"Image_Name\"] = image_path\n",
    "                data.append(label_info)\n",
    "    \n",
    "    # Create a DataFrame from the list of dictionaries\n",
    "    df = pd.DataFrame(data)\n",
    "    return df\n",
    "\n",
    "# Define the label mapping\n",
    "label_mapping = {\"NORM\", \"Acute MI\", \"Old MI\", \"STTC\", \"CD\", \"HYP\", \"PAC\", \"PVC\", \"AFIB/AFL\", \"TACHY\", \"BRADY\"}\n",
    "\n",
    "# Example usage:\n",
    "folder_path = '/kaggle/input/subset-of-physionet/subset_of_physionet'\n",
    "df = extract_info_from_hea(folder_path, label_mapping)\n",
    "\n",
    "# Save the DataFrame to a CSV file\n",
    "df.to_csv('extracted_info.csv', index=False)\n",
    "df.head()\n"
   ]
  },
  {
   "cell_type": "code",
   "execution_count": null,
   "id": "cf6fe857",
   "metadata": {
    "papermill": {
     "duration": 0.003654,
     "end_time": "2024-06-30T06:11:58.868387",
     "exception": false,
     "start_time": "2024-06-30T06:11:58.864733",
     "status": "completed"
    },
    "tags": []
   },
   "outputs": [],
   "source": []
  }
 ],
 "metadata": {
  "kaggle": {
   "accelerator": "none",
   "dataSources": [
    {
     "datasetId": 4890357,
     "sourceId": 8243513,
     "sourceType": "datasetVersion"
    },
    {
     "datasetId": 5225870,
     "sourceId": 8711272,
     "sourceType": "datasetVersion"
    },
    {
     "datasetId": 5300690,
     "sourceId": 8812194,
     "sourceType": "datasetVersion"
    },
    {
     "datasetId": 5301130,
     "sourceId": 8812815,
     "sourceType": "datasetVersion"
    }
   ],
   "dockerImageVersionId": 30733,
   "isGpuEnabled": false,
   "isInternetEnabled": true,
   "language": "python",
   "sourceType": "notebook"
  },
  "kernelspec": {
   "display_name": "Python 3",
   "language": "python",
   "name": "python3"
  },
  "language_info": {
   "codemirror_mode": {
    "name": "ipython",
    "version": 3
   },
   "file_extension": ".py",
   "mimetype": "text/x-python",
   "name": "python",
   "nbconvert_exporter": "python",
   "pygments_lexer": "ipython3",
   "version": "3.10.13"
  },
  "papermill": {
   "default_parameters": {},
   "duration": 11.444703,
   "end_time": "2024-06-30T06:12:00.098920",
   "environment_variables": {},
   "exception": null,
   "input_path": "__notebook__.ipynb",
   "output_path": "__notebook__.ipynb",
   "parameters": {},
   "start_time": "2024-06-30T06:11:48.654217",
   "version": "2.5.0"
  }
 },
 "nbformat": 4,
 "nbformat_minor": 5
}
