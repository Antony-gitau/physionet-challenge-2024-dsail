{
 "cells": [
  {
   "cell_type": "code",
   "execution_count": 1,
   "id": "45795c37",
   "metadata": {
    "execution": {
     "iopub.execute_input": "2024-07-01T15:15:15.513118Z",
     "iopub.status.busy": "2024-07-01T15:15:15.512597Z",
     "iopub.status.idle": "2024-07-01T15:15:22.171019Z",
     "shell.execute_reply": "2024-07-01T15:15:22.169889Z"
    },
    "papermill": {
     "duration": 6.669262,
     "end_time": "2024-07-01T15:15:22.173893",
     "exception": false,
     "start_time": "2024-07-01T15:15:15.504631",
     "status": "completed"
    },
    "tags": []
   },
   "outputs": [
    {
     "data": {
      "text/plain": [
       "<contextlib.ExitStack at 0x7e559742d7e0>"
      ]
     },
     "execution_count": 1,
     "metadata": {},
     "output_type": "execute_result"
    }
   ],
   "source": [
    "import torch\n",
    "import torch.nn as nn\n",
    "import torch.optim as optim\n",
    "from torch.optim import lr_scheduler\n",
    "import torch.backends.cudnn as cudnn\n",
    "import numpy as np\n",
    "import torchvision\n",
    "from torchvision import datasets, models, transforms\n",
    "import matplotlib.pyplot as plt\n",
    "import time\n",
    "import os\n",
    "from PIL import Image\n",
    "from tempfile import TemporaryDirectory\n",
    "\n",
    "cudnn.benchmark = True\n",
    "plt.ion()"
   ]
  },
  {
   "cell_type": "markdown",
   "id": "f71f1b61",
   "metadata": {
    "papermill": {
     "duration": 0.005713,
     "end_time": "2024-07-01T15:15:22.186024",
     "exception": false,
     "start_time": "2024-07-01T15:15:22.180311",
     "status": "completed"
    },
    "tags": []
   },
   "source": []
  },
  {
   "cell_type": "code",
   "execution_count": 2,
   "id": "87a0e280",
   "metadata": {
    "_cell_guid": "b1076dfc-b9ad-4769-8c92-a6c4dae69d19",
    "_uuid": "8f2839f25d086af736a60e9eeb907d3b93b6e0e5",
    "execution": {
     "iopub.execute_input": "2024-07-01T15:15:22.202144Z",
     "iopub.status.busy": "2024-07-01T15:15:22.201553Z",
     "iopub.status.idle": "2024-07-01T15:15:22.207401Z",
     "shell.execute_reply": "2024-07-01T15:15:22.205948Z"
    },
    "papermill": {
     "duration": 0.01744,
     "end_time": "2024-07-01T15:15:22.210753",
     "exception": false,
     "start_time": "2024-07-01T15:15:22.193313",
     "status": "completed"
    },
    "tags": []
   },
   "outputs": [],
   "source": [
    "# !git clone https://github.com/physionetchallenges/python-example-2024/"
   ]
  },
  {
   "cell_type": "code",
   "execution_count": 3,
   "id": "56e7a0ff",
   "metadata": {
    "execution": {
     "iopub.execute_input": "2024-07-01T15:15:22.225565Z",
     "iopub.status.busy": "2024-07-01T15:15:22.225141Z",
     "iopub.status.idle": "2024-07-01T15:15:22.232225Z",
     "shell.execute_reply": "2024-07-01T15:15:22.230687Z"
    },
    "papermill": {
     "duration": 0.017836,
     "end_time": "2024-07-01T15:15:22.235503",
     "exception": false,
     "start_time": "2024-07-01T15:15:22.217667",
     "status": "completed"
    },
    "tags": []
   },
   "outputs": [],
   "source": [
    "# !git clone https://github.com/physionetchallenges/vanilla-cnn-2024.git"
   ]
  },
  {
   "cell_type": "code",
   "execution_count": 4,
   "id": "ac985b1b",
   "metadata": {
    "execution": {
     "iopub.execute_input": "2024-07-01T15:15:22.251225Z",
     "iopub.status.busy": "2024-07-01T15:15:22.250771Z",
     "iopub.status.idle": "2024-07-01T15:15:22.256378Z",
     "shell.execute_reply": "2024-07-01T15:15:22.255229Z"
    },
    "papermill": {
     "duration": 0.017613,
     "end_time": "2024-07-01T15:15:22.259312",
     "exception": false,
     "start_time": "2024-07-01T15:15:22.241699",
     "status": "completed"
    },
    "tags": []
   },
   "outputs": [],
   "source": [
    "# !git clone https://github.com/alphanumericslab/ecg-image-kit.git"
   ]
  },
  {
   "cell_type": "code",
   "execution_count": 5,
   "id": "b4fa6633",
   "metadata": {
    "execution": {
     "iopub.execute_input": "2024-07-01T15:15:22.274288Z",
     "iopub.status.busy": "2024-07-01T15:15:22.273901Z",
     "iopub.status.idle": "2024-07-01T15:15:22.279439Z",
     "shell.execute_reply": "2024-07-01T15:15:22.278203Z"
    },
    "papermill": {
     "duration": 0.0169,
     "end_time": "2024-07-01T15:15:22.282393",
     "exception": false,
     "start_time": "2024-07-01T15:15:22.265493",
     "status": "completed"
    },
    "tags": []
   },
   "outputs": [],
   "source": [
    "## For handwriting distortions\n",
    "# !pip install https://s3-us-west-2.amazonaws.com/ai2-s2-scispacy/releases/v0.5.0/en_core_sci_sm-0.5.0.tar.gz &>1"
   ]
  },
  {
   "cell_type": "code",
   "execution_count": 6,
   "id": "ba648056",
   "metadata": {
    "execution": {
     "iopub.execute_input": "2024-07-01T15:15:22.296969Z",
     "iopub.status.busy": "2024-07-01T15:15:22.296556Z",
     "iopub.status.idle": "2024-07-01T15:15:22.302464Z",
     "shell.execute_reply": "2024-07-01T15:15:22.300978Z"
    },
    "papermill": {
     "duration": 0.01708,
     "end_time": "2024-07-01T15:15:22.305387",
     "exception": false,
     "start_time": "2024-07-01T15:15:22.288307",
     "status": "completed"
    },
    "tags": []
   },
   "outputs": [],
   "source": [
    "# !pip install gdown &>1\n",
    "# !pip install -r python-example-2024/requirements.txt &>1\n",
    "# !pip install -r ecg-image-kit/codes/ecg-image-generator/requirements.txt &>1"
   ]
  },
  {
   "cell_type": "code",
   "execution_count": 7,
   "id": "4ed83d32",
   "metadata": {
    "execution": {
     "iopub.execute_input": "2024-07-01T15:15:22.321896Z",
     "iopub.status.busy": "2024-07-01T15:15:22.320326Z",
     "iopub.status.idle": "2024-07-01T15:15:22.327371Z",
     "shell.execute_reply": "2024-07-01T15:15:22.325796Z"
    },
    "papermill": {
     "duration": 0.018973,
     "end_time": "2024-07-01T15:15:22.331084",
     "exception": false,
     "start_time": "2024-07-01T15:15:22.312111",
     "status": "completed"
    },
    "tags": []
   },
   "outputs": [],
   "source": [
    "# %%time\n",
    "# !python {SCRIPT_PATH} \\\n",
    "#      -i {input_dir} \\\n",
    "#      -o {output_dir} \\\n",
    "#      --random_print_header 0.5 \\\n",
    "#      --lead_bbox \\\n",
    "#      --lead_name_bbox \\\n",
    "#      --wrinkles \\\n",
    "#      -ca 45 \\\n",
    "#      --augment \\\n",
    "#      --se {SEED} \\\n",
    "#      -rot 10  \\\n",
    "#      -noise 100 \\\n",
    "#      --random_bw 0.1 \\\n",
    "#      --random_grid_color \\\n",
    "#      --hw_text \\\n",
    "#      -n 10 \\\n",
    "#      --store_config 2"
   ]
  },
  {
   "cell_type": "markdown",
   "id": "e93dbd5c",
   "metadata": {
    "papermill": {
     "duration": 0.005481,
     "end_time": "2024-07-01T15:15:22.342520",
     "exception": false,
     "start_time": "2024-07-01T15:15:22.337039",
     "status": "completed"
    },
    "tags": []
   },
   "source": [
    "# **Reformatt the dataset such that the image paths and labels are in a CSV file**"
   ]
  },
  {
   "cell_type": "code",
   "execution_count": 8,
   "id": "ce977e01",
   "metadata": {
    "execution": {
     "iopub.execute_input": "2024-07-01T15:15:22.358198Z",
     "iopub.status.busy": "2024-07-01T15:15:22.356917Z",
     "iopub.status.idle": "2024-07-01T15:15:23.609645Z",
     "shell.execute_reply": "2024-07-01T15:15:23.608362Z"
    },
    "papermill": {
     "duration": 1.263813,
     "end_time": "2024-07-01T15:15:23.612739",
     "exception": false,
     "start_time": "2024-07-01T15:15:22.348926",
     "status": "completed"
    },
    "tags": []
   },
   "outputs": [
    {
     "data": {
      "text/html": [
       "<div>\n",
       "<style scoped>\n",
       "    .dataframe tbody tr th:only-of-type {\n",
       "        vertical-align: middle;\n",
       "    }\n",
       "\n",
       "    .dataframe tbody tr th {\n",
       "        vertical-align: top;\n",
       "    }\n",
       "\n",
       "    .dataframe thead th {\n",
       "        text-align: right;\n",
       "    }\n",
       "</style>\n",
       "<table border=\"1\" class=\"dataframe\">\n",
       "  <thead>\n",
       "    <tr style=\"text-align: right;\">\n",
       "      <th></th>\n",
       "      <th>Acute MI</th>\n",
       "      <th>PAC</th>\n",
       "      <th>NORM</th>\n",
       "      <th>PVC</th>\n",
       "      <th>Old MI</th>\n",
       "      <th>STTC</th>\n",
       "      <th>TACHY</th>\n",
       "      <th>HYP</th>\n",
       "      <th>CD</th>\n",
       "      <th>BRADY</th>\n",
       "      <th>AFIB/AFL</th>\n",
       "      <th>Image_Name</th>\n",
       "    </tr>\n",
       "  </thead>\n",
       "  <tbody>\n",
       "    <tr>\n",
       "      <th>0</th>\n",
       "      <td>0</td>\n",
       "      <td>0</td>\n",
       "      <td>0</td>\n",
       "      <td>0</td>\n",
       "      <td>0</td>\n",
       "      <td>0</td>\n",
       "      <td>0</td>\n",
       "      <td>0</td>\n",
       "      <td>1</td>\n",
       "      <td>0</td>\n",
       "      <td>0</td>\n",
       "      <td>10003_hr-0.png</td>\n",
       "    </tr>\n",
       "    <tr>\n",
       "      <th>1</th>\n",
       "      <td>0</td>\n",
       "      <td>0</td>\n",
       "      <td>0</td>\n",
       "      <td>0</td>\n",
       "      <td>0</td>\n",
       "      <td>1</td>\n",
       "      <td>0</td>\n",
       "      <td>0</td>\n",
       "      <td>0</td>\n",
       "      <td>0</td>\n",
       "      <td>0</td>\n",
       "      <td>10004_hr-0.png</td>\n",
       "    </tr>\n",
       "    <tr>\n",
       "      <th>2</th>\n",
       "      <td>0</td>\n",
       "      <td>0</td>\n",
       "      <td>1</td>\n",
       "      <td>0</td>\n",
       "      <td>0</td>\n",
       "      <td>0</td>\n",
       "      <td>0</td>\n",
       "      <td>0</td>\n",
       "      <td>0</td>\n",
       "      <td>0</td>\n",
       "      <td>0</td>\n",
       "      <td>10007_hr-0.png</td>\n",
       "    </tr>\n",
       "    <tr>\n",
       "      <th>3</th>\n",
       "      <td>0</td>\n",
       "      <td>0</td>\n",
       "      <td>0</td>\n",
       "      <td>1</td>\n",
       "      <td>0</td>\n",
       "      <td>1</td>\n",
       "      <td>0</td>\n",
       "      <td>1</td>\n",
       "      <td>1</td>\n",
       "      <td>0</td>\n",
       "      <td>0</td>\n",
       "      <td>10006_hr-0.png</td>\n",
       "    </tr>\n",
       "    <tr>\n",
       "      <th>4</th>\n",
       "      <td>0</td>\n",
       "      <td>0</td>\n",
       "      <td>1</td>\n",
       "      <td>0</td>\n",
       "      <td>0</td>\n",
       "      <td>0</td>\n",
       "      <td>0</td>\n",
       "      <td>0</td>\n",
       "      <td>0</td>\n",
       "      <td>0</td>\n",
       "      <td>0</td>\n",
       "      <td>10005_hr-0.png</td>\n",
       "    </tr>\n",
       "  </tbody>\n",
       "</table>\n",
       "</div>"
      ],
      "text/plain": [
       "   Acute MI  PAC  NORM  PVC  Old MI  STTC  TACHY  HYP  CD  BRADY  AFIB/AFL  \\\n",
       "0         0    0     0    0       0     0      0    0   1      0         0   \n",
       "1         0    0     0    0       0     1      0    0   0      0         0   \n",
       "2         0    0     1    0       0     0      0    0   0      0         0   \n",
       "3         0    0     0    1       0     1      0    1   1      0         0   \n",
       "4         0    0     1    0       0     0      0    0   0      0         0   \n",
       "\n",
       "       Image_Name  \n",
       "0  10003_hr-0.png  \n",
       "1  10004_hr-0.png  \n",
       "2  10007_hr-0.png  \n",
       "3  10006_hr-0.png  \n",
       "4  10005_hr-0.png  "
      ]
     },
     "execution_count": 8,
     "metadata": {},
     "output_type": "execute_result"
    }
   ],
   "source": [
    "import os\n",
    "import pandas as pd\n",
    "\n",
    "def extract_info_from_hea(folder_path, label_mapping):\n",
    "    data = []\n",
    "\n",
    "    # Iterate over all files in the given folder\n",
    "    for filename in os.listdir(folder_path):\n",
    "        if filename.endswith(\".hea\"):\n",
    "            file_path = os.path.join(folder_path, filename)\n",
    "            with open(file_path, 'r', encoding='utf-8', errors='ignore') as file:\n",
    "                lines = file.readlines()\n",
    "                image_path = \"\"\n",
    "                labels = \"\"\n",
    "                \n",
    "                # Iterate over each line in the .hea file\n",
    "                for line in lines:\n",
    "                    if 'Labels' in line:\n",
    "                        labels = line.split(\":\")[1].strip()\n",
    "                    if 'png' in line:\n",
    "                        image_path = line.split(\":\")[1].strip()\n",
    "                \n",
    "                # Create a dictionary to hold the image path and label information\n",
    "                label_info = {label: 0 for label in label_mapping}\n",
    "                if labels:\n",
    "                    for label in labels.split(\",\"):\n",
    "                        if label.strip() in label_mapping:\n",
    "                            label_info[label.strip()] = 1\n",
    "                \n",
    "                label_info[\"Image_Name\"] = image_path\n",
    "                data.append(label_info)\n",
    "    \n",
    "    # Create a DataFrame from the list of dictionaries\n",
    "    df = pd.DataFrame(data)\n",
    "    return df\n",
    "\n",
    "# Define the label mapping\n",
    "label_mapping = {\"NORM\", \"Acute MI\", \"Old MI\", \"STTC\", \"CD\", \"HYP\", \"PAC\", \"PVC\", \"AFIB/AFL\", \"TACHY\", \"BRADY\"}\n",
    "\n",
    "# Example usage:\n",
    "folder_path = '/kaggle/input/subset-of-physionet/subset_of_physionet'\n",
    "df = extract_info_from_hea(folder_path, label_mapping)\n",
    "\n",
    "# Save the DataFrame to a CSV file\n",
    "df.to_csv('extracted_info.csv', index=False)\n",
    "df.head()\n"
   ]
  },
  {
   "cell_type": "markdown",
   "id": "39f3365c",
   "metadata": {
    "papermill": {
     "duration": 0.006519,
     "end_time": "2024-07-01T15:15:23.625943",
     "exception": false,
     "start_time": "2024-07-01T15:15:23.619424",
     "status": "completed"
    },
    "tags": []
   },
   "source": [
    "# **Restructuring the dataset in a new folder with the csv above and the images**"
   ]
  },
  {
   "cell_type": "code",
   "execution_count": 9,
   "id": "eba59651",
   "metadata": {
    "execution": {
     "iopub.execute_input": "2024-07-01T15:15:23.641834Z",
     "iopub.status.busy": "2024-07-01T15:15:23.640736Z",
     "iopub.status.idle": "2024-07-01T15:15:23.785978Z",
     "shell.execute_reply": "2024-07-01T15:15:23.784462Z"
    },
    "papermill": {
     "duration": 0.157155,
     "end_time": "2024-07-01T15:15:23.789439",
     "exception": false,
     "start_time": "2024-07-01T15:15:23.632284",
     "status": "completed"
    },
    "tags": []
   },
   "outputs": [],
   "source": [
    "import os\n",
    "import shutil\n",
    "import pandas as pd\n",
    "\n",
    "def extract_info_from_hea(folder_path, label_mapping):\n",
    "    data = []\n",
    "\n",
    "    # Iterate over all files in the given folder\n",
    "    for filename in os.listdir(folder_path):\n",
    "        if filename.endswith(\".hea\"):\n",
    "            file_path = os.path.join(folder_path, filename)\n",
    "            with open(file_path, 'r', encoding='utf-8', errors='ignore') as file:\n",
    "                lines = file.readlines()\n",
    "                image_path = \"\"\n",
    "                labels = \"\"\n",
    "                \n",
    "                # Iterate over each line in the .hea file\n",
    "                for line in lines:\n",
    "                    if 'Labels' in line:\n",
    "                        labels = line.split(\":\")[1].strip()\n",
    "                    if 'png' in line:\n",
    "                        image_path = line.split(\":\")[1].strip()\n",
    "                \n",
    "                # Create a dictionary to hold the image path and label information\n",
    "                label_info = {label: 0 for label in label_mapping}\n",
    "                if labels:\n",
    "                    for label in labels.split(\",\"):\n",
    "                        if label.strip() in label_mapping:\n",
    "                            label_info[label.strip()] = 1\n",
    "                \n",
    "                label_info[\"Image_Name\"] = image_path\n",
    "                data.append(label_info)\n",
    "    \n",
    "    # Create a DataFrame from the list of dictionaries\n",
    "    df = pd.DataFrame(data)\n",
    "    return df\n",
    "\n",
    "def move_files_and_create_structure(src_folder, dest_folder, df):\n",
    "    # Create the destination folder if it doesn't exist\n",
    "    if not os.path.exists(dest_folder):\n",
    "        os.makedirs(dest_folder)\n",
    "    \n",
    "    # Create the images subfolder\n",
    "    images_folder = os.path.join(dest_folder, 'images')\n",
    "    if not os.path.exists(images_folder):\n",
    "        os.makedirs(images_folder)\n",
    "    \n",
    "    # Copy the images\n",
    "    for index, row in df.iterrows():\n",
    "        src_image_path = os.path.join(src_folder, row['Image_Name'])\n",
    "        dest_image_path = os.path.join(images_folder, row['Image_Name'])\n",
    "        if os.path.exists(src_image_path):\n",
    "            shutil.copy2(src_image_path, dest_image_path)\n",
    "    \n",
    "    # Save the DataFrame to a CSV file\n",
    "    csv_path = os.path.join(dest_folder, 'multilabel_classification.csv')\n",
    "    df.to_csv(csv_path, index=False)\n",
    "\n",
    "# Define the label mapping\n",
    "label_mapping = {\"NORM\", \"Acute MI\", \"Old MI\", \"STTC\", \"CD\", \"HYP\", \"PAC\", \"PVC\", \"AFIB/AFL\", \"TACHY\", \"BRADY\"}\n",
    "\n",
    "# Set the folder paths\n",
    "src_folder = '/kaggle/input/subset-of-physionet/subset_of_physionet'\n",
    "dest_folder = '/kaggle/working/new-data'\n",
    "\n",
    "# Extract information from the .hea files and create the DataFrame\n",
    "df = extract_info_from_hea(src_folder, label_mapping)\n",
    "\n",
    "# Move the files and create the new folder structure\n",
    "move_files_and_create_structure(src_folder, dest_folder, df)\n"
   ]
  },
  {
   "cell_type": "code",
   "execution_count": null,
   "id": "eb583237",
   "metadata": {
    "papermill": {
     "duration": 0.006398,
     "end_time": "2024-07-01T15:15:23.802369",
     "exception": false,
     "start_time": "2024-07-01T15:15:23.795971",
     "status": "completed"
    },
    "tags": []
   },
   "outputs": [],
   "source": []
  }
 ],
 "metadata": {
  "kaggle": {
   "accelerator": "none",
   "dataSources": [
    {
     "datasetId": 4890357,
     "sourceId": 8243513,
     "sourceType": "datasetVersion"
    },
    {
     "datasetId": 5225870,
     "sourceId": 8711272,
     "sourceType": "datasetVersion"
    },
    {
     "datasetId": 5293597,
     "sourceId": 8802373,
     "sourceType": "datasetVersion"
    },
    {
     "datasetId": 5300690,
     "sourceId": 8812194,
     "sourceType": "datasetVersion"
    },
    {
     "datasetId": 5301130,
     "sourceId": 8812815,
     "sourceType": "datasetVersion"
    }
   ],
   "dockerImageVersionId": 30733,
   "isGpuEnabled": false,
   "isInternetEnabled": true,
   "language": "python",
   "sourceType": "notebook"
  },
  "kernelspec": {
   "display_name": "Python 3",
   "language": "python",
   "name": "python3"
  },
  "language_info": {
   "codemirror_mode": {
    "name": "ipython",
    "version": 3
   },
   "file_extension": ".py",
   "mimetype": "text/x-python",
   "name": "python",
   "nbconvert_exporter": "python",
   "pygments_lexer": "ipython3",
   "version": "3.10.13"
  },
  "papermill": {
   "default_parameters": {},
   "duration": 13.386788,
   "end_time": "2024-07-01T15:15:25.136526",
   "environment_variables": {},
   "exception": null,
   "input_path": "__notebook__.ipynb",
   "output_path": "__notebook__.ipynb",
   "parameters": {},
   "start_time": "2024-07-01T15:15:11.749738",
   "version": "2.5.0"
  }
 },
 "nbformat": 4,
 "nbformat_minor": 5
}
