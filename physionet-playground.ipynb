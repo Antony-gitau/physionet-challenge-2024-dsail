{
 "cells": [
  {
   "cell_type": "code",
   "execution_count": 1,
   "id": "5069a310",
   "metadata": {
    "execution": {
     "iopub.execute_input": "2024-07-02T13:52:12.949825Z",
     "iopub.status.busy": "2024-07-02T13:52:12.948790Z",
     "iopub.status.idle": "2024-07-02T13:52:18.218275Z",
     "shell.execute_reply": "2024-07-02T13:52:18.217296Z"
    },
    "papermill": {
     "duration": 5.277287,
     "end_time": "2024-07-02T13:52:18.220502",
     "exception": false,
     "start_time": "2024-07-02T13:52:12.943215",
     "status": "completed"
    },
    "tags": []
   },
   "outputs": [
    {
     "data": {
      "text/plain": [
       "<contextlib.ExitStack at 0x7bd8e5bbeb00>"
      ]
     },
     "execution_count": 1,
     "metadata": {},
     "output_type": "execute_result"
    }
   ],
   "source": [
    "import torch\n",
    "import torch.nn as nn\n",
    "import torch.optim as optim\n",
    "from torch.optim import lr_scheduler\n",
    "import torch.backends.cudnn as cudnn\n",
    "import numpy as np\n",
    "import torchvision\n",
    "from torchvision import datasets, models, transforms\n",
    "import matplotlib.pyplot as plt\n",
    "import time\n",
    "import os\n",
    "from PIL import Image\n",
    "from tempfile import TemporaryDirectory\n",
    "\n",
    "cudnn.benchmark = True\n",
    "plt.ion()"
   ]
  },
  {
   "cell_type": "markdown",
   "id": "b311b895",
   "metadata": {
    "papermill": {
     "duration": 0.003255,
     "end_time": "2024-07-02T13:52:18.227552",
     "exception": false,
     "start_time": "2024-07-02T13:52:18.224297",
     "status": "completed"
    },
    "tags": []
   },
   "source": []
  },
  {
   "cell_type": "markdown",
   "id": "4d4ea712",
   "metadata": {
    "papermill": {
     "duration": 0.00322,
     "end_time": "2024-07-02T13:52:18.234286",
     "exception": false,
     "start_time": "2024-07-02T13:52:18.231066",
     "status": "completed"
    },
    "tags": []
   },
   "source": [
    "# **Restructuring the dataset in a new folder with the csv above and the images**"
   ]
  },
  {
   "cell_type": "code",
   "execution_count": 2,
   "id": "33f3b371",
   "metadata": {
    "execution": {
     "iopub.execute_input": "2024-07-02T13:52:18.242938Z",
     "iopub.status.busy": "2024-07-02T13:52:18.242430Z",
     "iopub.status.idle": "2024-07-02T13:52:41.182797Z",
     "shell.execute_reply": "2024-07-02T13:52:41.181665Z"
    },
    "papermill": {
     "duration": 22.947661,
     "end_time": "2024-07-02T13:52:41.185336",
     "exception": false,
     "start_time": "2024-07-02T13:52:18.237675",
     "status": "completed"
    },
    "tags": []
   },
   "outputs": [],
   "source": [
    "import os\n",
    "import shutil\n",
    "import pandas as pd\n",
    "\n",
    "def extract_info_from_hea(folder_path, label_mapping):\n",
    "    data = []\n",
    "\n",
    "    # Iterate over all files in the given folder\n",
    "    for filename in os.listdir(folder_path):\n",
    "        if filename.endswith(\".hea\"):\n",
    "            file_path = os.path.join(folder_path, filename)\n",
    "            with open(file_path, 'r', encoding='utf-8', errors='ignore') as file:\n",
    "                lines = file.readlines()\n",
    "                image_path = \"\"\n",
    "                labels = \"\"\n",
    "                \n",
    "                # Iterate over each line in the .hea file\n",
    "                for line in lines:\n",
    "                    if 'Labels' in line:\n",
    "                        labels = line.split(\":\")[1].strip()\n",
    "                    if 'png' in line:\n",
    "                        image_path = line.split(\":\")[1].strip()\n",
    "                \n",
    "                # Create a dictionary to hold the image path and label information\n",
    "                label_info = {label: 0 for label in label_mapping}\n",
    "                if labels:\n",
    "                    for label in labels.split(\",\"):\n",
    "                        if label.strip() in label_mapping:\n",
    "                            label_info[label.strip()] = 1\n",
    "                \n",
    "                label_info[\"Image_Name\"] = image_path\n",
    "                data.append(label_info)\n",
    "    \n",
    "    # Create a DataFrame from the list of dictionaries\n",
    "    df = pd.DataFrame(data)\n",
    "    return df\n",
    "\n",
    "def move_files_and_create_structure(src_folder, dest_folder, df):\n",
    "    # Create the destination folder if it doesn't exist\n",
    "    if not os.path.exists(dest_folder):\n",
    "        os.makedirs(dest_folder)\n",
    "    \n",
    "    # Create the images subfolder\n",
    "    images_folder = os.path.join(dest_folder, 'images')\n",
    "    if not os.path.exists(images_folder):\n",
    "        os.makedirs(images_folder)\n",
    "    \n",
    "    # Copy the images\n",
    "    for index, row in df.iterrows():\n",
    "        src_image_path = os.path.join(src_folder, row['Image_Name'])\n",
    "        dest_image_path = os.path.join(images_folder, row['Image_Name'])\n",
    "        if os.path.exists(src_image_path):\n",
    "            shutil.copy2(src_image_path, dest_image_path)\n",
    "    \n",
    "    # Save the DataFrame to a CSV file\n",
    "    csv_path = os.path.join(dest_folder, 'multilabel_classification.csv')\n",
    "    df.to_csv(csv_path, index=False)\n",
    "\n",
    "# Define the label mapping\n",
    "label_mapping = {\"NORM\", \"Acute MI\", \"Old MI\", \"STTC\", \"CD\", \"HYP\", \"PAC\", \"PVC\", \"AFIB/AFL\", \"TACHY\", \"BRADY\"}\n",
    "\n",
    "# Set the folder paths\n",
    "src_folder = '//kaggle/input/physionet-flash-data/data/records500/01000'\n",
    "dest_folder = '/kaggle/working/new-data'\n",
    "\n",
    "# Extract information from the .hea files and create the DataFrame\n",
    "df = extract_info_from_hea(src_folder, label_mapping)\n",
    "\n",
    "# Move the files and create the new folder structure\n",
    "move_files_and_create_structure(src_folder, dest_folder, df)\n"
   ]
  },
  {
   "cell_type": "code",
   "execution_count": 3,
   "id": "9f880b38",
   "metadata": {
    "execution": {
     "iopub.execute_input": "2024-07-02T13:52:41.194123Z",
     "iopub.status.busy": "2024-07-02T13:52:41.193464Z",
     "iopub.status.idle": "2024-07-02T13:52:41.200781Z",
     "shell.execute_reply": "2024-07-02T13:52:41.199675Z"
    },
    "papermill": {
     "duration": 0.014128,
     "end_time": "2024-07-02T13:52:41.203037",
     "exception": false,
     "start_time": "2024-07-02T13:52:41.188909",
     "status": "completed"
    },
    "tags": []
   },
   "outputs": [
    {
     "data": {
      "text/plain": [
       "1000"
      ]
     },
     "execution_count": 3,
     "metadata": {},
     "output_type": "execute_result"
    }
   ],
   "source": [
    "len(os.listdir(\"/kaggle/working/new-data/images\"))"
   ]
  },
  {
   "cell_type": "markdown",
   "id": "08fb33d7",
   "metadata": {
    "papermill": {
     "duration": 0.003378,
     "end_time": "2024-07-02T13:52:41.210049",
     "exception": false,
     "start_time": "2024-07-02T13:52:41.206671",
     "status": "completed"
    },
    "tags": []
   },
   "source": [
    "# **Prepare the \"physionet-100-00000\"**\n"
   ]
  },
  {
   "cell_type": "code",
   "execution_count": 4,
   "id": "eeb5ea6b",
   "metadata": {
    "execution": {
     "iopub.execute_input": "2024-07-02T13:52:41.218542Z",
     "iopub.status.busy": "2024-07-02T13:52:41.218183Z",
     "iopub.status.idle": "2024-07-02T13:52:43.134385Z",
     "shell.execute_reply": "2024-07-02T13:52:43.132901Z"
    },
    "papermill": {
     "duration": 1.923536,
     "end_time": "2024-07-02T13:52:43.137065",
     "exception": false,
     "start_time": "2024-07-02T13:52:41.213529",
     "status": "completed"
    },
    "tags": []
   },
   "outputs": [
    {
     "name": "stdout",
     "output_type": "stream",
     "text": [
      "Cloning into 'python-example-2024'...\r\n",
      "remote: Enumerating objects: 116, done.\u001b[K\r\n",
      "remote: Counting objects: 100% (72/72), done.\u001b[K\r\n",
      "remote: Compressing objects: 100% (44/44), done.\u001b[K\r\n",
      "remote: Total 116 (delta 45), reused 50 (delta 28), pack-reused 44\u001b[K\r\n",
      "Receiving objects: 100% (116/116), 232.04 KiB | 6.82 MiB/s, done.\r\n",
      "Resolving deltas: 100% (65/65), done.\r\n"
     ]
    }
   ],
   "source": [
    "!git clone https://github.com/physionetchallenges/python-example-2024.git"
   ]
  },
  {
   "cell_type": "markdown",
   "id": "56e86b49",
   "metadata": {
    "papermill": {
     "duration": 0.003759,
     "end_time": "2024-07-02T13:52:43.144954",
     "exception": false,
     "start_time": "2024-07-02T13:52:43.141195",
     "status": "completed"
    },
    "tags": []
   },
   "source": []
  },
  {
   "cell_type": "code",
   "execution_count": 5,
   "id": "93a96b4e",
   "metadata": {
    "execution": {
     "iopub.execute_input": "2024-07-02T13:52:43.154809Z",
     "iopub.status.busy": "2024-07-02T13:52:43.154404Z",
     "iopub.status.idle": "2024-07-02T13:53:33.411229Z",
     "shell.execute_reply": "2024-07-02T13:53:33.409771Z"
    },
    "papermill": {
     "duration": 50.26485,
     "end_time": "2024-07-02T13:53:33.413870",
     "exception": false,
     "start_time": "2024-07-02T13:52:43.149020",
     "status": "completed"
    },
    "tags": []
   },
   "outputs": [],
   "source": [
    "!python \"/kaggle/working/python-example-2024/prepare_image_data.py\" -i \"/kaggle/input/physionet-100-00000/content/data/ptb-103/records100/00000\" -o \"/kaggle/working/records100/00000\""
   ]
  },
  {
   "cell_type": "code",
   "execution_count": 6,
   "id": "b69005b6",
   "metadata": {
    "execution": {
     "iopub.execute_input": "2024-07-02T13:53:33.424421Z",
     "iopub.status.busy": "2024-07-02T13:53:33.423980Z",
     "iopub.status.idle": "2024-07-02T13:53:33.433478Z",
     "shell.execute_reply": "2024-07-02T13:53:33.432388Z"
    },
    "papermill": {
     "duration": 0.01749,
     "end_time": "2024-07-02T13:53:33.435750",
     "exception": false,
     "start_time": "2024-07-02T13:53:33.418260",
     "status": "completed"
    },
    "tags": []
   },
   "outputs": [
    {
     "data": {
      "text/plain": [
       "2134"
      ]
     },
     "execution_count": 6,
     "metadata": {},
     "output_type": "execute_result"
    }
   ],
   "source": [
    "import os\n",
    "len(os.listdir(\"/kaggle/working/records100/00000\"))"
   ]
  },
  {
   "cell_type": "code",
   "execution_count": null,
   "id": "5ba33bc2",
   "metadata": {
    "papermill": {
     "duration": 0.003809,
     "end_time": "2024-07-02T13:53:33.443803",
     "exception": false,
     "start_time": "2024-07-02T13:53:33.439994",
     "status": "completed"
    },
    "tags": []
   },
   "outputs": [],
   "source": []
  }
 ],
 "metadata": {
  "kaggle": {
   "accelerator": "none",
   "dataSources": [
    {
     "datasetId": 4890357,
     "sourceId": 8243513,
     "sourceType": "datasetVersion"
    },
    {
     "datasetId": 5225870,
     "sourceId": 8711272,
     "sourceType": "datasetVersion"
    },
    {
     "datasetId": 5293597,
     "sourceId": 8802373,
     "sourceType": "datasetVersion"
    },
    {
     "datasetId": 5300690,
     "sourceId": 8812194,
     "sourceType": "datasetVersion"
    },
    {
     "datasetId": 5301130,
     "sourceId": 8812815,
     "sourceType": "datasetVersion"
    },
    {
     "datasetId": 5301165,
     "sourceId": 8812864,
     "sourceType": "datasetVersion"
    }
   ],
   "dockerImageVersionId": 30733,
   "isGpuEnabled": false,
   "isInternetEnabled": true,
   "language": "python",
   "sourceType": "notebook"
  },
  "kernelspec": {
   "display_name": "Python 3",
   "language": "python",
   "name": "python3"
  },
  "language_info": {
   "codemirror_mode": {
    "name": "ipython",
    "version": 3
   },
   "file_extension": ".py",
   "mimetype": "text/x-python",
   "name": "python",
   "nbconvert_exporter": "python",
   "pygments_lexer": "ipython3",
   "version": "3.10.13"
  },
  "papermill": {
   "default_parameters": {},
   "duration": 84.466732,
   "end_time": "2024-07-02T13:53:34.671191",
   "environment_variables": {},
   "exception": null,
   "input_path": "__notebook__.ipynb",
   "output_path": "__notebook__.ipynb",
   "parameters": {},
   "start_time": "2024-07-02T13:52:10.204459",
   "version": "2.5.0"
  }
 },
 "nbformat": 4,
 "nbformat_minor": 5
}
