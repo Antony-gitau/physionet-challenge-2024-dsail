{
 "cells": [
  {
   "cell_type": "code",
   "execution_count": 1,
   "id": "3b1e95a3",
   "metadata": {
    "execution": {
     "iopub.execute_input": "2024-07-01T17:51:02.480251Z",
     "iopub.status.busy": "2024-07-01T17:51:02.479845Z",
     "iopub.status.idle": "2024-07-01T17:51:07.474493Z",
     "shell.execute_reply": "2024-07-01T17:51:07.473324Z"
    },
    "papermill": {
     "duration": 5.001925,
     "end_time": "2024-07-01T17:51:07.476846",
     "exception": false,
     "start_time": "2024-07-01T17:51:02.474921",
     "status": "completed"
    },
    "tags": []
   },
   "outputs": [
    {
     "data": {
      "text/plain": [
       "<contextlib.ExitStack at 0x7df8e0164eb0>"
      ]
     },
     "execution_count": 1,
     "metadata": {},
     "output_type": "execute_result"
    }
   ],
   "source": [
    "import torch\n",
    "import torch.nn as nn\n",
    "import torch.optim as optim\n",
    "from torch.optim import lr_scheduler\n",
    "import torch.backends.cudnn as cudnn\n",
    "import numpy as np\n",
    "import torchvision\n",
    "from torchvision import datasets, models, transforms\n",
    "import matplotlib.pyplot as plt\n",
    "import time\n",
    "import os\n",
    "from PIL import Image\n",
    "from tempfile import TemporaryDirectory\n",
    "\n",
    "cudnn.benchmark = True\n",
    "plt.ion()"
   ]
  },
  {
   "cell_type": "markdown",
   "id": "64d25e21",
   "metadata": {
    "papermill": {
     "duration": 0.002698,
     "end_time": "2024-07-01T17:51:07.482909",
     "exception": false,
     "start_time": "2024-07-01T17:51:07.480211",
     "status": "completed"
    },
    "tags": []
   },
   "source": []
  },
  {
   "cell_type": "markdown",
   "id": "6c0b3428",
   "metadata": {
    "papermill": {
     "duration": 0.002369,
     "end_time": "2024-07-01T17:51:07.488053",
     "exception": false,
     "start_time": "2024-07-01T17:51:07.485684",
     "status": "completed"
    },
    "tags": []
   },
   "source": [
    "# **Restructuring the dataset in a new folder with the csv above and the images**"
   ]
  },
  {
   "cell_type": "code",
   "execution_count": 2,
   "id": "fd6f1255",
   "metadata": {
    "execution": {
     "iopub.execute_input": "2024-07-01T17:51:07.495101Z",
     "iopub.status.busy": "2024-07-01T17:51:07.494566Z",
     "iopub.status.idle": "2024-07-01T17:51:21.129671Z",
     "shell.execute_reply": "2024-07-01T17:51:21.128706Z"
    },
    "papermill": {
     "duration": 13.641651,
     "end_time": "2024-07-01T17:51:21.132235",
     "exception": false,
     "start_time": "2024-07-01T17:51:07.490584",
     "status": "completed"
    },
    "tags": []
   },
   "outputs": [],
   "source": [
    "import os\n",
    "import shutil\n",
    "import pandas as pd\n",
    "\n",
    "def extract_info_from_hea(folder_path, label_mapping):\n",
    "    data = []\n",
    "\n",
    "    # Iterate over all files in the given folder\n",
    "    for filename in os.listdir(folder_path):\n",
    "        if filename.endswith(\".hea\"):\n",
    "            file_path = os.path.join(folder_path, filename)\n",
    "            with open(file_path, 'r', encoding='utf-8', errors='ignore') as file:\n",
    "                lines = file.readlines()\n",
    "                image_path = \"\"\n",
    "                labels = \"\"\n",
    "                \n",
    "                # Iterate over each line in the .hea file\n",
    "                for line in lines:\n",
    "                    if 'Labels' in line:\n",
    "                        labels = line.split(\":\")[1].strip()\n",
    "                    if 'png' in line:\n",
    "                        image_path = line.split(\":\")[1].strip()\n",
    "                \n",
    "                # Create a dictionary to hold the image path and label information\n",
    "                label_info = {label: 0 for label in label_mapping}\n",
    "                if labels:\n",
    "                    for label in labels.split(\",\"):\n",
    "                        if label.strip() in label_mapping:\n",
    "                            label_info[label.strip()] = 1\n",
    "                \n",
    "                label_info[\"Image_Name\"] = image_path\n",
    "                data.append(label_info)\n",
    "    \n",
    "    # Create a DataFrame from the list of dictionaries\n",
    "    df = pd.DataFrame(data)\n",
    "    return df\n",
    "\n",
    "def move_files_and_create_structure(src_folder, dest_folder, df):\n",
    "    # Create the destination folder if it doesn't exist\n",
    "    if not os.path.exists(dest_folder):\n",
    "        os.makedirs(dest_folder)\n",
    "    \n",
    "    # Create the images subfolder\n",
    "    images_folder = os.path.join(dest_folder, 'images')\n",
    "    if not os.path.exists(images_folder):\n",
    "        os.makedirs(images_folder)\n",
    "    \n",
    "    # Copy the images\n",
    "    for index, row in df.iterrows():\n",
    "        src_image_path = os.path.join(src_folder, row['Image_Name'])\n",
    "        dest_image_path = os.path.join(images_folder, row['Image_Name'])\n",
    "        if os.path.exists(src_image_path):\n",
    "            shutil.copy2(src_image_path, dest_image_path)\n",
    "    \n",
    "    # Save the DataFrame to a CSV file\n",
    "    csv_path = os.path.join(dest_folder, 'multilabel_classification.csv')\n",
    "    df.to_csv(csv_path, index=False)\n",
    "\n",
    "# Define the label mapping\n",
    "label_mapping = {\"NORM\", \"Acute MI\", \"Old MI\", \"STTC\", \"CD\", \"HYP\", \"PAC\", \"PVC\", \"AFIB/AFL\", \"TACHY\", \"BRADY\"}\n",
    "\n",
    "# Set the folder paths\n",
    "src_folder = '//kaggle/input/physionet-flash-data/data/records500/01000'\n",
    "dest_folder = '/kaggle/working/new-data'\n",
    "\n",
    "# Extract information from the .hea files and create the DataFrame\n",
    "df = extract_info_from_hea(src_folder, label_mapping)\n",
    "\n",
    "# Move the files and create the new folder structure\n",
    "move_files_and_create_structure(src_folder, dest_folder, df)\n"
   ]
  },
  {
   "cell_type": "code",
   "execution_count": 3,
   "id": "4dfb6671",
   "metadata": {
    "execution": {
     "iopub.execute_input": "2024-07-01T17:51:21.139677Z",
     "iopub.status.busy": "2024-07-01T17:51:21.139041Z",
     "iopub.status.idle": "2024-07-01T17:51:21.146086Z",
     "shell.execute_reply": "2024-07-01T17:51:21.145118Z"
    },
    "papermill": {
     "duration": 0.013263,
     "end_time": "2024-07-01T17:51:21.148329",
     "exception": false,
     "start_time": "2024-07-01T17:51:21.135066",
     "status": "completed"
    },
    "tags": []
   },
   "outputs": [
    {
     "data": {
      "text/plain": [
       "1000"
      ]
     },
     "execution_count": 3,
     "metadata": {},
     "output_type": "execute_result"
    }
   ],
   "source": [
    "len(os.listdir(\"/kaggle/working/new-data/images\"))"
   ]
  },
  {
   "cell_type": "code",
   "execution_count": null,
   "id": "f3b35fb3",
   "metadata": {
    "papermill": {
     "duration": 0.002511,
     "end_time": "2024-07-01T17:51:21.153719",
     "exception": false,
     "start_time": "2024-07-01T17:51:21.151208",
     "status": "completed"
    },
    "tags": []
   },
   "outputs": [],
   "source": []
  }
 ],
 "metadata": {
  "kaggle": {
   "accelerator": "none",
   "dataSources": [
    {
     "datasetId": 4890357,
     "sourceId": 8243513,
     "sourceType": "datasetVersion"
    },
    {
     "datasetId": 5225870,
     "sourceId": 8711272,
     "sourceType": "datasetVersion"
    },
    {
     "datasetId": 5293597,
     "sourceId": 8802373,
     "sourceType": "datasetVersion"
    },
    {
     "datasetId": 5300690,
     "sourceId": 8812194,
     "sourceType": "datasetVersion"
    },
    {
     "datasetId": 5301130,
     "sourceId": 8812815,
     "sourceType": "datasetVersion"
    },
    {
     "datasetId": 5301165,
     "sourceId": 8812864,
     "sourceType": "datasetVersion"
    }
   ],
   "dockerImageVersionId": 30733,
   "isGpuEnabled": false,
   "isInternetEnabled": true,
   "language": "python",
   "sourceType": "notebook"
  },
  "kernelspec": {
   "display_name": "Python 3",
   "language": "python",
   "name": "python3"
  },
  "language_info": {
   "codemirror_mode": {
    "name": "ipython",
    "version": 3
   },
   "file_extension": ".py",
   "mimetype": "text/x-python",
   "name": "python",
   "nbconvert_exporter": "python",
   "pygments_lexer": "ipython3",
   "version": "3.10.13"
  },
  "papermill": {
   "default_parameters": {},
   "duration": 22.582184,
   "end_time": "2024-07-01T17:51:22.278980",
   "environment_variables": {},
   "exception": null,
   "input_path": "__notebook__.ipynb",
   "output_path": "__notebook__.ipynb",
   "parameters": {},
   "start_time": "2024-07-01T17:50:59.696796",
   "version": "2.5.0"
  }
 },
 "nbformat": 4,
 "nbformat_minor": 5
}
